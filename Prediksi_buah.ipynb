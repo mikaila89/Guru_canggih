{
  "nbformat": 4,
  "nbformat_minor": 0,
  "metadata": {
    "colab": {
      "provenance": [],
      "authorship_tag": "ABX9TyMKF3KkVBZxH0YLj6D/9R14",
      "include_colab_link": true
    },
    "kernelspec": {
      "name": "python3",
      "display_name": "Python 3"
    },
    "language_info": {
      "name": "python"
    }
  },
  "cells": [
    {
      "cell_type": "markdown",
      "metadata": {
        "id": "view-in-github",
        "colab_type": "text"
      },
      "source": [
        "<a href=\"https://colab.research.google.com/github/mikaila89/Guru_canggih/blob/main/Prediksi_buah.ipynb\" target=\"_parent\"><img src=\"https://colab.research.google.com/assets/colab-badge.svg\" alt=\"Open In Colab\"/></a>"
      ]
    },
    {
      "cell_type": "code",
      "execution_count": 1,
      "metadata": {
        "colab": {
          "base_uri": "https://localhost:8080/"
        },
        "id": "Seo-s3X7lJap",
        "outputId": "e92283f6-974b-4926-faa4-a849a65a4a4e"
      },
      "outputs": [
        {
          "output_type": "stream",
          "name": "stdout",
          "text": [
            "Akurasi Model: 0.975\n",
            "Label Asli : 6\n",
            "Prediksi AI: 6\n"
          ]
        }
      ],
      "source": [
        "from sklearn import datasets\n",
        "from sklearn.model_selection import train_test_split\n",
        "from sklearn.linear_model import LogisticRegression\n",
        "from sklearn.metrics import accuracy_score\n",
        "\n",
        "# 1. Load dataset angka (digits)\n",
        "digits = datasets.load_digits()\n",
        "X = digits.data   # fitur (gambar angka dalam bentuk vektor)\n",
        "y = digits.target # label (angka 0-9)\n",
        "\n",
        "# 2. Bagi data untuk training dan testing\n",
        "X_train, X_test, y_train, y_test = train_test_split(\n",
        "    X, y, test_size=0.2, random_state=42\n",
        ")\n",
        "\n",
        "# 3. Buat model AI sederhana (Logistic Regression)\n",
        "model = LogisticRegression(max_iter=10000)\n",
        "model.fit(X_train, y_train)\n",
        "\n",
        "# 4. Lakukan prediksi\n",
        "y_pred = model.predict(X_test)\n",
        "\n",
        "# 5. Hitung akurasi\n",
        "acc = accuracy_score(y_test, y_pred)\n",
        "print(\"Akurasi Model:\", acc)\n",
        "\n",
        "# 6. Coba prediksi satu data\n",
        "print(\"Label Asli :\", y_test[0])\n",
        "print(\"Prediksi AI:\", y_pred[0])"
      ]
    },
    {
      "cell_type": "code",
      "source": [
        "# Import library\n",
        "import matplotlib.pyplot as plt\n",
        "from sklearn import datasets\n",
        "from sklearn.model_selection import train_test_split\n",
        "from sklearn.linear_model import LogisticRegression\n",
        "from sklearn.metrics import accuracy_score\n",
        "\n",
        "# 1. Load dataset angka (digits)\n",
        "digits = datasets.load_digits()\n",
        "X = digits.data   # fitur (gambar angka dalam bentuk vektor)\n",
        "y = digits.target # label (angka 0-9)\n",
        "\n",
        "# 2. Bagi data untuk training dan testing\n",
        "X_train, X_test, y_train, y_test = train_test_split(\n",
        "    X, y, test_size=0.2, random_state=42\n",
        ")\n",
        "\n",
        "# 3. Buat model AI sederhana (Logistic Regression)\n",
        "model = LogisticRegression(max_iter=10000)\n",
        "model.fit(X_train, y_train)\n",
        "\n",
        "# 4. Lakukan prediksi\n",
        "y_pred = model.predict(X_test)\n",
        "\n",
        "# 5. Hitung akurasi\n",
        "acc = accuracy_score(y_test, y_pred)\n",
        "print(\"Akurasi Model:\", acc)\n",
        "\n",
        "# 6. Visualisasi hasil prediksi 5 gambar pertama\n",
        "fig, axes = plt.subplots(1, 5, figsize=(10, 3))\n",
        "for i, ax in enumerate(axes):\n",
        "    ax.imshow(X_test[i].reshape(8, 8), cmap=\"gray\")  # tampilkan gambar angka\n",
        "    ax.set_title(f\"Pred: {y_pred[i]}\\nAsli: {y_test[i]}\")\n",
        "    ax.axis(\"off\")\n",
        "\n",
        "plt.show()\n"
      ],
      "metadata": {
        "colab": {
          "base_uri": "https://localhost:8080/",
          "height": 231
        },
        "id": "ynKEkCR4lW3s",
        "outputId": "987f1e5e-b7a8-431c-ff88-a2a72796fd36"
      },
      "execution_count": 2,
      "outputs": [
        {
          "output_type": "stream",
          "name": "stdout",
          "text": [
            "Akurasi Model: 0.975\n"
          ]
        },
        {
          "output_type": "display_data",
          "data": {
            "text/plain": [
              "<Figure size 1000x300 with 5 Axes>"
            ],
            "image/png": "[encoded data removed]"
          },
          "metadata": {}
        }
      ]
    },
    {
      "cell_type": "code",
      "source": [
        "# Contoh AI sederhana: Klasifikasi Apel atau Jeruk\n",
        "\n",
        "from sklearn.tree import DecisionTreeClassifier\n",
        "\n",
        "# 1. Data sederhana: [berat (gram), tekstur (0=halus, 1=kasar)]\n",
        "# Apel biasanya lebih ringan & halus, jeruk lebih berat & agak kasar\n",
        "X = [\n",
        "    [150, 0],  # Apel\n",
        "    [130, 0],  # Apel\n",
        "    [170, 1],  # Jeruk\n",
        "    [160, 1],  # Jeruk\n",
        "    [180, 2],  # Jeruk\n",
        "    [200, 2],  # Mangga (example data point)\n",
        "]\n",
        "\n",
        "# Label: 0 = Apel, 1 = Jeruk, 2 = mangga\n",
        "y = [0, 0, 1, 1, 1, 2] # Added missing label\n",
        "\n",
        "# 2. Buat model AI\n",
        "model = DecisionTreeClassifier()\n",
        "model.fit(X, y)\n",
        "\n",
        "# 3. Coba prediksi buah baru\n",
        "buah_baru = [[200, 2]]  # Buah berat 140 gram, halus\n",
        "prediksi = model.predict(buah_baru)\n",
        "\n",
        "# 4. Tampilkan hasil\n",
        "if prediksi[0] == 0:\n",
        "    print(\"AI menebak: apel 🍎\")\n",
        "elif prediksi[0] == 1:\n",
        "    print(\"AI menebak: Jeruk 🍊\")\n",
        "else:\n",
        "    print(\"AI menebak: mangga 🥭\")"
      ],
      "metadata": {
        "colab": {
          "base_uri": "https://localhost:8080/"
        },
        "id": "MPyQWpDQl58a",
        "outputId": "a12af45d-917e-427e-f574-1408ecf7119d"
      },
      "execution_count": 27,
      "outputs": [
        {
          "output_type": "stream",
          "name": "stdout",
          "text": [
            "AI menebak: mangga 🥭\n"
          ]
        }
      ]
    }
  ]
}